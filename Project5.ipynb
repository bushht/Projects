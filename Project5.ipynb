{
  "nbformat": 4,
  "nbformat_minor": 0,
  "metadata": {
    "colab": {
      "provenance": []
    },
    "kernelspec": {
      "name": "python3",
      "display_name": "Python 3"
    },
    "language_info": {
      "name": "python"
    }
  },
  "cells": [
    {
      "cell_type": "markdown",
      "source": [
        "Bushra Hoteit"
      ],
      "metadata": {
        "id": "z6kAk3tYrHoZ"
      }
    },
    {
      "cell_type": "markdown",
      "source": [
        "**1. Text Data Preparation**"
      ],
      "metadata": {
        "id": "wK_VPw4PrqX0"
      }
    },
    {
      "cell_type": "markdown",
      "source": [
        "***Load the Newsgroups dataset using scikit-learn.***"
      ],
      "metadata": {
        "id": "aVLn0tVTrs0y"
      }
    },
    {
      "cell_type": "code",
      "source": [
        "from sklearn.datasets import fetch_20newsgroups\n",
        "from sklearn.feature_extraction.text import CountVectorizer\n",
        "from nltk.corpus import stopwords\n",
        "import nltk\n",
        "from nltk.tokenize import word_tokenize\n",
        "from sklearn.feature_extraction.text import TfidfVectorizer\n",
        "from nltk.tokenize import word_tokenize\n",
        "import string"
      ],
      "metadata": {
        "id": "SB3N-ig4QHHV"
      },
      "execution_count": 1,
      "outputs": []
    },
    {
      "cell_type": "code",
      "execution_count": 3,
      "metadata": {
        "colab": {
          "base_uri": "https://localhost:8080/"
        },
        "id": "JKpIG9sErGQY",
        "outputId": "f3556429-b243-468f-bc81-ddd4eec6ff9d"
      },
      "outputs": [
        {
          "output_type": "stream",
          "name": "stdout",
          "text": [
            "\n",
            "Loaded 18846 documents.\n",
            "\n",
            "Sample text:\n",
            "\n",
            "I am sure some bashers of Pens fans are pretty confused about the lack\n",
            "of any kind of posts about the recent Pens massacre of the Devils. Actually,\n",
            "I am  bit puzzled too and a bit relieved. However, I am going to put an end\n",
            "to non-PIttsburghers' relief with a bit of praise for the Pens. Man, they\n",
            "are killing those Devils worse than I thought. Jagr just showed you why\n",
            "he is much better than his regular season stats. He is also a lot\n",
            "fo fun to watch in the playoffs. Bowman should let JAgr have a\n"
          ]
        }
      ],
      "source": [
        "nltk.download('stopwords')\n",
        "nltk.download('punkt')\n",
        "\n",
        "newsgroups_data = fetch_20newsgroups(subset='all', remove=('headers', 'footers', 'quotes'))\n",
        "texts = newsgroups_data.data\n",
        "labels = newsgroups_data.target\n",
        "\n",
        "\n",
        "print(f\"\\nLoaded {len(texts)} documents.\")\n",
        "print(f\"\\nSample text:{texts[0][:500]}\")"
      ]
    },
    {
      "cell_type": "markdown",
      "source": [
        "***Perform basic text preprocessing including tokenization, removing stopwords, and punctuation.***"
      ],
      "metadata": {
        "id": "-SZvh2_QrvlL"
      }
    },
    {
      "cell_type": "code",
      "source": [
        "stop_words = set(stopwords.words('english'))\n",
        "punct_table = str.maketrans('', '', string.punctuation)\n",
        "\n",
        "def preprocess(text):\n",
        "  text = text.lower()                   # Lowercase\n",
        "  text = text.translate(punct_table)    # Remove punctuation\n",
        "  tokens = text.split()                 # Tokenize    Didnt work with --> word_tokenize(text)\n",
        "  tokens = [word for word in tokens if word not in stop_words]  # Remove stopwords\n",
        "  return ' '.join(tokens)\n",
        "\n",
        "texts_cleaned= [preprocess(doc) for doc in texts]     # Apply the function to each document in the texts list\n",
        "print(\"Preprocessing complete\")\n",
        "print(f\"Example cleaned text:\", texts_cleaned[0][:500])"
      ],
      "metadata": {
        "colab": {
          "base_uri": "https://localhost:8080/"
        },
        "id": "knMx8P6TzflA",
        "outputId": "54644da2-836c-496a-94e1-bac6f009f3d8"
      },
      "execution_count": 4,
      "outputs": [
        {
          "output_type": "stream",
          "name": "stdout",
          "text": [
            "Preprocessing complete\n",
            "Example cleaned text: sure bashers pens fans pretty confused lack kind posts recent pens massacre devils actually bit puzzled bit relieved however going put end nonpittsburghers relief bit praise pens man killing devils worse thought jagr showed much better regular season stats also lot fo fun watch playoffs bowman let jagr lot fun next couple games since pens going beat pulp jersey anyway disappointed see islanders lose final regular season game pens rule\n"
          ]
        }
      ]
    },
    {
      "cell_type": "markdown",
      "source": [
        "**2. Text Representation**"
      ],
      "metadata": {
        "id": "56HMavRdr5qg"
      }
    },
    {
      "cell_type": "markdown",
      "source": [
        "***Implement Bag of Words and TF-IDF for feature extraction.***"
      ],
      "metadata": {
        "id": "nWQqWcqBr8Uq"
      }
    },
    {
      "cell_type": "code",
      "source": [
        "# Bag of Words\n",
        "# Converts text to sparse matrix of word counts for ML models.\n",
        "\n",
        "from sklearn.feature_extraction.text import CountVectorizer\n",
        "\n",
        "# Initialize the Vectorizer with Parameters\n",
        "bow_vectorizer = CountVectorizer(max_features=1000, max_df=0.5, min_df=10)         # Keeping only the top 1000 most frquent tokens / ignore tokens that appear in more than 50% of docs & in less than 10 documents\n",
        "X_bow = bow_vectorizer.fit_transform(texts_cleaned)\n",
        "\n",
        "print(\"Bag of Words shape:\", X_bow.shape)\n"
      ],
      "metadata": {
        "colab": {
          "base_uri": "https://localhost:8080/"
        },
        "id": "ES794t_DRjAG",
        "outputId": "87c462c6-8464-4f8f-f3d6-d5783b03a66e"
      },
      "execution_count": 5,
      "outputs": [
        {
          "output_type": "stream",
          "name": "stdout",
          "text": [
            "Bag of Words shape: (18846, 1000)\n"
          ]
        }
      ]
    },
    {
      "cell_type": "code",
      "source": [
        "# Using td-idf to transform the counts to weighted td-idf scores.\n",
        "# Highlights important words while down weighting very common ones.\n",
        "\n",
        "tfidf_vectorizer = TfidfVectorizer(max_features=1000, max_df=0.5, min_df=10)\n",
        "X_tfidf = tfidf_vectorizer.fit_transform(texts_cleaned)\n",
        "\n",
        "print(\"TF-IDF shape:\", X_tfidf.shape)"
      ],
      "metadata": {
        "colab": {
          "base_uri": "https://localhost:8080/"
        },
        "id": "7GHcgP6o3D3N",
        "outputId": "88db9cd2-11aa-4a82-9237-fb2d3a09f28d"
      },
      "execution_count": 6,
      "outputs": [
        {
          "output_type": "stream",
          "name": "stdout",
          "text": [
            "TF-IDF shape: (18846, 1000)\n"
          ]
        }
      ]
    },
    {
      "cell_type": "markdown",
      "source": [
        "***Introduce basic word embeddings and illustrate with a simple pre-trained example, if feasible.***"
      ],
      "metadata": {
        "id": "cDOzjWi2r-WL"
      }
    },
    {
      "cell_type": "code",
      "source": [
        "!pip install gensim\n",
        "\n",
        "import gensim.downloader as api\n",
        "\n",
        "# Word embeddings are vector representations of words in a continuous space, where words with similar meanings are close together.\n",
        "# This helps models understand relationships between words beyond just counting their occurrences."
      ],
      "metadata": {
        "colab": {
          "base_uri": "https://localhost:8080/"
        },
        "id": "elWLzUNPYFk6",
        "outputId": "f730692d-3b1a-4293-afb2-1ad9a24d33f1"
      },
      "execution_count": 7,
      "outputs": [
        {
          "output_type": "stream",
          "name": "stdout",
          "text": [
            "Requirement already satisfied: gensim in /usr/local/lib/python3.11/dist-packages (4.3.3)\n",
            "Requirement already satisfied: numpy<2.0,>=1.18.5 in /usr/local/lib/python3.11/dist-packages (from gensim) (1.26.4)\n",
            "Requirement already satisfied: scipy<1.14.0,>=1.7.0 in /usr/local/lib/python3.11/dist-packages (from gensim) (1.13.1)\n",
            "Requirement already satisfied: smart-open>=1.8.1 in /usr/local/lib/python3.11/dist-packages (from gensim) (7.3.0)\n",
            "Requirement already satisfied: wrapt in /usr/local/lib/python3.11/dist-packages (from smart-open>=1.8.1->gensim) (1.17.2)\n"
          ]
        }
      ]
    },
    {
      "cell_type": "code",
      "source": [
        "# Load pre-trained word vectors using GloVe model\n",
        "model = api.load('glove-wiki-gigaword-50')\n",
        "\n",
        "# Embedding vector for the word 'computer'\n",
        "computer_vector = model['computer']\n",
        "\n",
        "# Calculating similarity between 'computer' and 'technology'\n",
        "similarity = model.similarity('computer', 'technology')\n",
        "\n",
        "\n",
        "print(\"Vector for 'computer':\", computer_vector[:10])  # show first 10 dimensions\n",
        "print(\"Similarity between 'computer' and 'technology':\", similarity)\n",
        "\n",
        "# Similarity between these 2 words is 0.85, meaning the GloVe model considers 'computer' and 'technology' to be closely related semantically."
      ],
      "metadata": {
        "colab": {
          "base_uri": "https://localhost:8080/"
        },
        "id": "CEWL_nd9SyPL",
        "outputId": "efe648ff-a599-48b7-f3f6-d54f51b23229"
      },
      "execution_count": 8,
      "outputs": [
        {
          "output_type": "stream",
          "name": "stdout",
          "text": [
            "[==================================================] 100.0% 66.0/66.0MB downloaded\n",
            "Vector for 'computer': [ 0.079084 -0.81504   1.7901    0.91653   0.10797  -0.55628  -0.84427\n",
            " -1.4951    0.13418   0.63627 ]\n",
            "Similarity between 'computer' and 'technology': 0.8525559\n"
          ]
        }
      ]
    },
    {
      "cell_type": "markdown",
      "source": [
        "**3. Unsupervised Learning Application**"
      ],
      "metadata": {
        "id": "mTWHK9BLX-Kw"
      }
    },
    {
      "cell_type": "markdown",
      "source": [
        "***Apply clustering algorithms like K-Means or Hierarchical Clustering to the extracted features***"
      ],
      "metadata": {
        "id": "O4bN1XVYYBDR"
      }
    },
    {
      "cell_type": "code",
      "source": [
        "import matplotlib.pyplot as plt\n",
        "from sklearn.cluster import KMeans\n",
        "\n",
        "inertias = []\n",
        "k_values = range(2, 21)\n",
        "\n",
        "for k in k_values:\n",
        "    km = KMeans(n_clusters=k, random_state=42, n_init=10)\n",
        "    km.fit(X_tfidf)\n",
        "    inertias.append(km.inertia_)\n",
        "\n",
        "plt.figure(figsize=(8,5))\n",
        "plt.plot(k_values, inertias, marker='o')\n",
        "plt.xlabel('Number of clusters (k)')\n",
        "plt.ylabel('Inertia')\n",
        "plt.title('Elbow Method to Find Optimal k')\n",
        "plt.show()\n",
        "\n",
        "# Optimal k around 17 clusters based on the below chart"
      ],
      "metadata": {
        "colab": {
          "base_uri": "https://localhost:8080/",
          "height": 487
        },
        "id": "lpFeM_qWnAbY",
        "outputId": "d2163066-8826-46ea-8635-29df45abdb88"
      },
      "execution_count": 9,
      "outputs": [
        {
          "output_type": "display_data",
          "data": {
            "text/plain": [
              "<Figure size 800x500 with 1 Axes>"
            ],
            "image/png": "[encoded data removed]"
          },
          "metadata": {}
        }
      ]
    },
    {
      "cell_type": "code",
      "source": [
        "# Using optimal clusters\n",
        "num_clusters = 17\n",
        "\n",
        "kmeans = KMeans(n_clusters=num_clusters, random_state=42)\n",
        "clusters = kmeans.fit_predict(X_tfidf)\n"
      ],
      "metadata": {
        "id": "tkXYxfR7X_Nf"
      },
      "execution_count": 10,
      "outputs": []
    },
    {
      "cell_type": "markdown",
      "source": [
        "***Analyze and interpret the resulting clusters, examining common themes or topics within each cluster.***"
      ],
      "metadata": {
        "id": "TqrBeGEsccRm"
      }
    },
    {
      "cell_type": "code",
      "source": [
        "import numpy as np\n",
        "\n",
        "vectorizer = tfidf_vectorizer\n",
        "\n",
        "# Get feature names (words)\n",
        "terms = vectorizer.get_feature_names_out()\n",
        "\n",
        "order_centroids = kmeans.cluster_centers_.argsort()[:, ::-1]\n",
        "\n",
        "for i in range(num_clusters):\n",
        "    print(f\"Cluster {i}:\")\n",
        "    top_terms = [terms[ind] for ind in order_centroids[i, :10]]  # top 10 words\n",
        "    print(\"Top terms:\", \", \".join(top_terms))\n",
        "    print()\n"
      ],
      "metadata": {
        "colab": {
          "base_uri": "https://localhost:8080/"
        },
        "id": "91tLgxBycexA",
        "outputId": "5834cf7a-1a3e-46f9-97ad-00b0baa14f06"
      },
      "execution_count": 11,
      "outputs": [
        {
          "output_type": "stream",
          "name": "stdout",
          "text": [
            "Cluster 0:\n",
            "Top terms: machines, please, equipment, ibm, friend, mine, lost, needed, memory, 100\n",
            "\n",
            "Cluster 1:\n",
            "Top terms: genocide, previous, article, must, got, say, two, well, think, dont\n",
            "\n",
            "Cluster 2:\n",
            "Top terms: video, card, cards, image, view, jpeg, require, gives, specific, hardware\n",
            "\n",
            "Cluster 3:\n",
            "Top terms: theory, books, lot, help, anyone, able, along, chip, related, currently\n",
            "\n",
            "Cluster 4:\n",
            "Top terms: sin, god, jesus, original, us, love, christ, faith, gods, human\n",
            "\n",
            "Cluster 5:\n",
            "Top terms: great, games, team, start, year, least, made, said, la, media\n",
            "\n",
            "Cluster 6:\n",
            "Top terms: space, nasa, would, launch, station, program, like, one, think, also\n",
            "\n",
            "Cluster 7:\n",
            "Top terms: god, jesus, bible, believe, christ, one, christian, christians, faith, people\n",
            "\n",
            "Cluster 8:\n",
            "Top terms: help, language, cards, manual, sounds, memory, fine, advance, hi, card\n",
            "\n",
            "Cluster 9:\n",
            "Top terms: would, dont, one, think, people, like, get, know, well, im\n",
            "\n",
            "Cluster 10:\n",
            "Top terms: entire, youre, letter, opinions, internet, words, see, care, fine, word\n",
            "\n",
            "Cluster 11:\n",
            "Top terms: thanks, windows, anyone, please, know, email, drive, would, card, use\n",
            "\n",
            "Cluster 12:\n",
            "Top terms: key, chip, clipper, encryption, keys, government, would, use, algorithm, phone\n",
            "\n",
            "Cluster 13:\n",
            "Top terms: going, ability, term, generally, bring, hit, strong, expect, oh, one\n",
            "\n",
            "Cluster 14:\n",
            "Top terms: new, one, also, used, good, like, get, use, first, may\n",
            "\n",
            "Cluster 15:\n",
            "Top terms: major, good, players, play, vs, baseball, league, player, really, mr\n",
            "\n",
            "Cluster 16:\n",
            "Top terms: armenian, armenians, turkish, armenia, genocide, turkey, people, muslim, russian, government\n",
            "\n"
          ]
        }
      ]
    },
    {
      "cell_type": "markdown",
      "source": [
        "Common themes within each cluster:\n",
        "\n",
        "Cluster 0 --> Technical discussion\n",
        "\n",
        "Cluster 1 --> General discussion\n",
        "\n",
        "Cluster 2 --> Hardware/Video Cards\n",
        "\n",
        "Cluster 4, 7 --> Christianity\n",
        "\n",
        "Cluster 6 --> Space/NASA\n",
        "\n",
        "Cluster 12 --> Encryption/Security\n",
        "\n",
        "Cluster 15 --> Sports/Baseball\n",
        "\n",
        "Cluster 16 --> Armenian Genocide\n",
        "\n",
        "We have some clusters not showing a clear theme like cluster 1 & 9.\n",
        "Some clusters also seem to have similar topics like cluster 4 & 7, mainly about christianity."
      ],
      "metadata": {
        "id": "tklhO24wzWCF"
      }
    },
    {
      "cell_type": "markdown",
      "source": [
        "**4. Model Evaluation and Prediction**"
      ],
      "metadata": {
        "id": "Yc_VP74Ed49-"
      }
    },
    {
      "cell_type": "markdown",
      "source": [
        "***Demonstrate the applicability of the clustering model to new, unseen documents to predict their cluster assignments.***"
      ],
      "metadata": {
        "id": "tsjOMfaJoXYn"
      }
    },
    {
      "cell_type": "code",
      "source": [
        "# Applying the trained K-Means model to unseen data\n",
        "# Selecting 10 new unseen documents\n",
        "\n",
        "new_docs = texts_cleaned[:10]\n",
        "new_X_tfidf = tfidf_vectorizer.transform(new_docs)\n",
        "\n",
        "# Predict cluster assignments\n",
        "new_clusters = kmeans.predict(new_X_tfidf)\n",
        "\n",
        "# Display results\n",
        "for idx, cluster in enumerate(new_clusters):\n",
        "    print(f\"Document {idx+1} assigned to Cluster {cluster}\")\n"
      ],
      "metadata": {
        "colab": {
          "base_uri": "https://localhost:8080/"
        },
        "id": "QHiOARpwovG1",
        "outputId": "d5a262ff-f456-4883-98db-07b5c01c2f46"
      },
      "execution_count": 12,
      "outputs": [
        {
          "output_type": "stream",
          "name": "stdout",
          "text": [
            "Document 1 assigned to Cluster 9\n",
            "Document 2 assigned to Cluster 11\n",
            "Document 3 assigned to Cluster 16\n",
            "Document 4 assigned to Cluster 11\n",
            "Document 5 assigned to Cluster 11\n",
            "Document 6 assigned to Cluster 14\n",
            "Document 7 assigned to Cluster 14\n",
            "Document 8 assigned to Cluster 9\n",
            "Document 9 assigned to Cluster 9\n",
            "Document 10 assigned to Cluster 14\n"
          ]
        }
      ]
    },
    {
      "cell_type": "markdown",
      "source": [
        "***Validate the effectiveness of the model by examining how well new documents fit into the established clusters using metrics such as silhouette score or cohesion and separation measures.***\n"
      ],
      "metadata": {
        "id": "kSC0UADUoZZ4"
      }
    },
    {
      "cell_type": "code",
      "source": [
        "from sklearn.metrics import silhouette_score\n",
        "\n",
        "score = silhouette_score(X_tfidf, kmeans.labels_)\n",
        "print(f\"Silhouette Score on training data: {score:.4f}\")\n",
        "\n",
        "# Silhouette score is almost 0, meaning clusters are greatly overlapping.\n",
        "# Therefore, some on the words fit better in other clusters.\n",
        "# However we did see the model identified top terms that capture meaningful topics, even if the points are close in space."
      ],
      "metadata": {
        "colab": {
          "base_uri": "https://localhost:8080/"
        },
        "id": "c8Hmp5jxpYhZ",
        "outputId": "0f167e98-be8a-44f5-ceef-359253a97452"
      },
      "execution_count": 15,
      "outputs": [
        {
          "output_type": "stream",
          "name": "stdout",
          "text": [
            "Silhouette Score on training data: -0.0202\n"
          ]
        }
      ]
    }
  ]
}